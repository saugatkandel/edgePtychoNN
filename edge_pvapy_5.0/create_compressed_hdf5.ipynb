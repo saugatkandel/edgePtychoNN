{
 "cells": [
  {
   "cell_type": "code",
   "execution_count": 2,
   "id": "5c1c78c1-5701-4345-903f-5681b306452d",
   "metadata": {
    "tags": []
   },
   "outputs": [],
   "source": [
    "import numpy as np\n",
    "import hdf5plugin\n",
    "import h5py\n",
    "#import matplotlib.pyplot as plt\n",
    "import blosc2\n",
    "import blosc\n",
    "import lz4\n",
    "import lz4.frame\n",
    "import bitshuffle"
   ]
  },
  {
   "cell_type": "code",
   "execution_count": 23,
   "id": "4a941b67-c413-438a-a288-d794369679c1",
   "metadata": {
    "tags": []
   },
   "outputs": [],
   "source": [
    "import ctypes\n",
    "import ctypes.util"
   ]
  },
  {
   "cell_type": "code",
   "execution_count": 26,
   "id": "b860d822-9e3f-4161-87ad-1e391fa6ed66",
   "metadata": {
    "tags": []
   },
   "outputs": [
    {
     "data": {
      "text/plain": [
       "'/home/beams/SKANDEL/miniforge3/envs/edge2/lib/liblz4.so.1'"
      ]
     },
     "execution_count": 26,
     "metadata": {},
     "output_type": "execute_result"
    }
   ],
   "source": [
    "ctypes.util.find_library('lz4')"
   ]
  },
  {
   "cell_type": "code",
   "execution_count": 3,
   "id": "34d8c0d3-b99e-406f-9ccd-98b290791e00",
   "metadata": {
    "tags": []
   },
   "outputs": [],
   "source": [
    "data = np.load('diff_scan_810_128x128.npy')"
   ]
  },
  {
   "cell_type": "code",
   "execution_count": 32,
   "id": "05af9d5c-91a6-41ad-8c2c-cf56a07fbb1c",
   "metadata": {
    "tags": []
   },
   "outputs": [],
   "source": [
    "data_padded = np.pad(data, [[0,0], [192, 192],[192,192]])\n",
    "data0 = data_padded[:8, ...]"
   ]
  },
  {
   "cell_type": "code",
   "execution_count": 5,
   "id": "917cbf8f-dc24-4820-b307-a4cf8b830606",
   "metadata": {
    "tags": []
   },
   "outputs": [
    {
     "data": {
      "text/plain": [
       "(1, 512, 512)"
      ]
     },
     "execution_count": 5,
     "metadata": {},
     "output_type": "execute_result"
    }
   ],
   "source": [
    "data0.shape"
   ]
  },
  {
   "cell_type": "code",
   "execution_count": 28,
   "id": "0a765f2b-4da5-4fb7-977f-9dfaf39401d4",
   "metadata": {
    "tags": []
   },
   "outputs": [],
   "source": [
    "import tifffile"
   ]
  },
  {
   "cell_type": "code",
   "execution_count": 33,
   "id": "ca9129d8-4b67-4573-a2df-6c3489b77da6",
   "metadata": {
    "tags": []
   },
   "outputs": [
    {
     "name": "stdout",
     "output_type": "stream",
     "text": [
      "18.1 ms ± 234 µs per loop (mean ± std. dev. of 7 runs, 100 loops each)\n"
     ]
    }
   ],
   "source": [
    "%%timeit\n",
    "np.save('diff_scan_810_512x512.npy', data0)"
   ]
  },
  {
   "cell_type": "code",
   "execution_count": null,
   "id": "04dcc361-cf75-45f2-b061-ce820b5a2fa8",
   "metadata": {},
   "outputs": [],
   "source": []
  },
  {
   "cell_type": "code",
   "execution_count": 8,
   "id": "e815120e-bbbd-4d54-afb0-6e253def827e",
   "metadata": {
    "tags": []
   },
   "outputs": [
    {
     "name": "stdout",
     "output_type": "stream",
     "text": [
      "{'compression': 32004, 'compression_opts': (0,)}\n",
      "{'32004': (0,)}\n"
     ]
    }
   ],
   "source": [
    "with h5py.File('diff_scan_810_512x512.hdf5', 'w') as f:\n",
    "    dct = dict(hdf5plugin.LZ4())\n",
    "    print(dct)\n",
    "    f.create_dataset('data', data=data0, **dct, chunks=(1, 512, 512))\n",
    "    print(f['data']._filters)\n",
    "    test_dat = f['data'].id.read_direct_chunk((0,0,0))\n",
    "    \n",
    "    \n",
    "    \n",
    "    "
   ]
  },
  {
   "cell_type": "code",
   "execution_count": 9,
   "id": "511b23d8-157a-40da-b118-30adf1a1269c",
   "metadata": {
    "tags": []
   },
   "outputs": [],
   "source": [
    "uts = np.frombuffer(test_dat[1], dtype='uint8')"
   ]
  },
  {
   "cell_type": "code",
   "execution_count": 19,
   "id": "5e2eedcd-d255-4d41-b503-4c4f360aba1f",
   "metadata": {
    "tags": []
   },
   "outputs": [],
   "source": [
    "d_context = lz4.frame.create_decompression_context()"
   ]
  },
  {
   "cell_type": "code",
   "execution_count": null,
   "id": "a4149062-2916-41d2-a286-f6ee50e16711",
   "metadata": {},
   "outputs": [],
   "source": []
  },
  {
   "cell_type": "code",
   "execution_count": 21,
   "id": "637912ed-001d-4170-a963-f76f98529267",
   "metadata": {
    "tags": []
   },
   "outputs": [
    {
     "ename": "RuntimeError",
     "evalue": "LZ4F_decompress failed with code: ERROR_frameType_unknown",
     "output_type": "error",
     "traceback": [
      "\u001b[0;31m---------------------------------------------------------------------------\u001b[0m",
      "\u001b[0;31mRuntimeError\u001b[0m                              Traceback (most recent call last)",
      "Cell \u001b[0;32mIn[21], line 1\u001b[0m\n\u001b[0;32m----> 1\u001b[0m \u001b[43mlz4\u001b[49m\u001b[38;5;241;43m.\u001b[39;49m\u001b[43mframe\u001b[49m\u001b[38;5;241;43m.\u001b[39;49m\u001b[43mdecompress_chunk\u001b[49m\u001b[43m(\u001b[49m\u001b[43md_context\u001b[49m\u001b[43m,\u001b[49m\u001b[43m \u001b[49m\u001b[43muts\u001b[49m\u001b[43m)\u001b[49m\n",
      "\u001b[0;31mRuntimeError\u001b[0m: LZ4F_decompress failed with code: ERROR_frameType_unknown"
     ]
    }
   ],
   "source": [
    "lz4.frame.decompress_chunk(d_context, uts)"
   ]
  },
  {
   "cell_type": "code",
   "execution_count": 23,
   "id": "181dd13d-2569-4baa-a9fe-1a598b1e54fd",
   "metadata": {
    "tags": []
   },
   "outputs": [],
   "source": [
    "import lz4\n",
    "import lz4.frame"
   ]
  },
  {
   "cell_type": "code",
   "execution_count": 31,
   "id": "4ce8f81d-5084-4505-9ed0-771bdc52e8f9",
   "metadata": {
    "tags": []
   },
   "outputs": [],
   "source": []
  },
  {
   "cell_type": "code",
   "execution_count": 14,
   "id": "1fdfacce-397b-483a-b18b-28d56e7d8dcd",
   "metadata": {
    "tags": []
   },
   "outputs": [
    {
     "ename": "TypeError",
     "evalue": "decompress_lz4() takes at least 3 positional arguments (2 given)",
     "output_type": "error",
     "traceback": [
      "\u001b[0;31m---------------------------------------------------------------------------\u001b[0m",
      "\u001b[0;31mTypeError\u001b[0m                                 Traceback (most recent call last)",
      "Cell \u001b[0;32mIn[14], line 1\u001b[0m\n\u001b[0;32m----> 1\u001b[0m \u001b[43mbitshuffle\u001b[49m\u001b[38;5;241;43m.\u001b[39;49m\u001b[43mdecompress_lz4\u001b[49m\u001b[43m(\u001b[49m\u001b[43muts\u001b[49m\u001b[43m,\u001b[49m\u001b[43m \u001b[49m\u001b[43mshape\u001b[49m\u001b[38;5;241;43m=\u001b[39;49m\u001b[43mdata0\u001b[49m\u001b[38;5;241;43m.\u001b[39;49m\u001b[43mshape\u001b[49m\u001b[43m)\u001b[49m\n",
      "File \u001b[0;32mbitshuffle/ext.pyx:437\u001b[0m, in \u001b[0;36mbitshuffle.ext.decompress_lz4\u001b[0;34m()\u001b[0m\n",
      "\u001b[0;31mTypeError\u001b[0m: decompress_lz4() takes at least 3 positional arguments (2 given)"
     ]
    }
   ],
   "source": [
    "bitshuffle.decompress_lz4(uts, shape=data0.shape)"
   ]
  },
  {
   "cell_type": "code",
   "execution_count": 16,
   "id": "3d76ae87-d9a1-40a8-b632-98cffb2613aa",
   "metadata": {
    "tags": []
   },
   "outputs": [
    {
     "ename": "ValueError",
     "evalue": "Error while decompressing, check the src data and/or the dparams",
     "output_type": "error",
     "traceback": [
      "\u001b[0;31m---------------------------------------------------------------------------\u001b[0m",
      "\u001b[0;31mValueError\u001b[0m                                Traceback (most recent call last)",
      "Cell \u001b[0;32mIn[16], line 1\u001b[0m\n\u001b[0;32m----> 1\u001b[0m decomp \u001b[38;5;241m=\u001b[39m \u001b[43mblosc2\u001b[49m\u001b[38;5;241;43m.\u001b[39;49m\u001b[43mdecompress2\u001b[49m\u001b[43m(\u001b[49m\u001b[43muts\u001b[49m\u001b[43m)\u001b[49m\n\u001b[1;32m      2\u001b[0m d2 \u001b[38;5;241m=\u001b[39m np\u001b[38;5;241m.\u001b[39mfrombuffer(decomp, dtype\u001b[38;5;241m=\u001b[39m\u001b[38;5;124m'\u001b[39m\u001b[38;5;124mfloat32\u001b[39m\u001b[38;5;124m'\u001b[39m)\n",
      "File \u001b[0;32m~/miniforge3/envs/edge2/lib/python3.10/site-packages/blosc2/core.py:1325\u001b[0m, in \u001b[0;36mdecompress2\u001b[0;34m(src, dst, **kwargs)\u001b[0m\n\u001b[1;32m   1282\u001b[0m \u001b[38;5;28;01mdef\u001b[39;00m \u001b[38;5;21mdecompress2\u001b[39m(src, dst\u001b[38;5;241m=\u001b[39m\u001b[38;5;28;01mNone\u001b[39;00m, \u001b[38;5;241m*\u001b[39m\u001b[38;5;241m*\u001b[39mkwargs):\n\u001b[1;32m   1283\u001b[0m \u001b[38;5;250m    \u001b[39m\u001b[38;5;124;03m\"\"\"Compress :paramref:`src` with the given compression params (if given)\u001b[39;00m\n\u001b[1;32m   1284\u001b[0m \n\u001b[1;32m   1285\u001b[0m \u001b[38;5;124;03m    Parameters\u001b[39;00m\n\u001b[0;32m   (...)\u001b[0m\n\u001b[1;32m   1323\u001b[0m \u001b[38;5;124;03m        If :paramref:`dst` is not None and its length is 0.\u001b[39;00m\n\u001b[1;32m   1324\u001b[0m \u001b[38;5;124;03m    \"\"\"\u001b[39;00m\n\u001b[0;32m-> 1325\u001b[0m     \u001b[38;5;28;01mreturn\u001b[39;00m \u001b[43mblosc2_ext\u001b[49m\u001b[38;5;241;43m.\u001b[39;49m\u001b[43mdecompress2\u001b[49m\u001b[43m(\u001b[49m\u001b[43msrc\u001b[49m\u001b[43m,\u001b[49m\u001b[43m \u001b[49m\u001b[43mdst\u001b[49m\u001b[43m,\u001b[49m\u001b[43m \u001b[49m\u001b[38;5;241;43m*\u001b[39;49m\u001b[38;5;241;43m*\u001b[39;49m\u001b[43mkwargs\u001b[49m\u001b[43m)\u001b[49m\n",
      "File \u001b[0;32mblosc2_ext.pyx:761\u001b[0m, in \u001b[0;36mblosc2.blosc2_ext.decompress2\u001b[0;34m()\u001b[0m\n",
      "\u001b[0;31mValueError\u001b[0m: Error while decompressing, check the src data and/or the dparams"
     ]
    }
   ],
   "source": [
    "decomp = blosc2.decompress2(uts)\n",
    "d2 = np.frombuffer(decomp, dtype='float32')"
   ]
  },
  {
   "cell_type": "code",
   "execution_count": 19,
   "id": "a12ec067-bb67-42b6-96da-0a636f889357",
   "metadata": {
    "tags": []
   },
   "outputs": [
    {
     "data": {
      "text/plain": [
       "\u001b[0;31mSignature:\u001b[0m \u001b[0mblosc2\u001b[0m\u001b[0;34m.\u001b[0m\u001b[0mdecompress\u001b[0m\u001b[0;34m(\u001b[0m\u001b[0msrc\u001b[0m\u001b[0;34m,\u001b[0m \u001b[0mdst\u001b[0m\u001b[0;34m=\u001b[0m\u001b[0;32mNone\u001b[0m\u001b[0;34m,\u001b[0m \u001b[0mas_bytearray\u001b[0m\u001b[0;34m=\u001b[0m\u001b[0;32mFalse\u001b[0m\u001b[0;34m)\u001b[0m\u001b[0;34m\u001b[0m\u001b[0;34m\u001b[0m\u001b[0m\n",
       "\u001b[0;31mSource:\u001b[0m   \n",
       "\u001b[0;32mdef\u001b[0m \u001b[0mdecompress\u001b[0m\u001b[0;34m(\u001b[0m\u001b[0msrc\u001b[0m\u001b[0;34m,\u001b[0m \u001b[0mdst\u001b[0m\u001b[0;34m=\u001b[0m\u001b[0;32mNone\u001b[0m\u001b[0;34m,\u001b[0m \u001b[0mas_bytearray\u001b[0m\u001b[0;34m=\u001b[0m\u001b[0;32mFalse\u001b[0m\u001b[0;34m)\u001b[0m\u001b[0;34m:\u001b[0m\u001b[0;34m\u001b[0m\n",
       "\u001b[0;34m\u001b[0m    \u001b[0;34m\"\"\"Decompresses a bytes-like compressed object.\u001b[0m\n",
       "\u001b[0;34m\u001b[0m\n",
       "\u001b[0;34m    Parameters\u001b[0m\n",
       "\u001b[0;34m    ----------\u001b[0m\n",
       "\u001b[0;34m    src : bytes-like object\u001b[0m\n",
       "\u001b[0;34m        The data to be decompressed.  Must be a bytes-like object\u001b[0m\n",
       "\u001b[0;34m        that supports the Python Buffer Protocol, like bytes, bytearray,\u001b[0m\n",
       "\u001b[0;34m        memoryview, or\u001b[0m\n",
       "\u001b[0;34m        `numpy.ndarray <https://numpy.org/doc/stable/reference/generated/numpy.ndarray.html>`_.\u001b[0m\n",
       "\u001b[0;34m    dst : NumPy object or bytearray\u001b[0m\n",
       "\u001b[0;34m        The destination NumPy object or bytearray to fill,\u001b[0m\n",
       "\u001b[0;34m        the length of which must be greater than 0.\u001b[0m\n",
       "\u001b[0;34m        The user must make sure\u001b[0m\n",
       "\u001b[0;34m        that it has enough capacity for hosting the decompressed data.\u001b[0m\n",
       "\u001b[0;34m        Default is None, meaning that a new `bytes` or `bytearray` object\u001b[0m\n",
       "\u001b[0;34m        is created, filled and returned.\u001b[0m\n",
       "\u001b[0;34m    as_bytearray : bool (optional)\u001b[0m\n",
       "\u001b[0;34m        If this flag is True then the return type will be a bytearray object\u001b[0m\n",
       "\u001b[0;34m        instead of a bytes object.\u001b[0m\n",
       "\u001b[0;34m\u001b[0m\n",
       "\u001b[0;34m    Returns\u001b[0m\n",
       "\u001b[0;34m    -------\u001b[0m\n",
       "\u001b[0;34m    out: str/bytes or bytearray\u001b[0m\n",
       "\u001b[0;34m        If :paramref:`dst` is `None`, the decompressed data in form of a Python str / bytes object.\u001b[0m\n",
       "\u001b[0;34m        If as_bytearray is True then this will be a bytearray object.\u001b[0m\n",
       "\u001b[0;34m\u001b[0m\n",
       "\u001b[0;34m        If :paramref:`dst` is not `None`, it will return `None` because the result\u001b[0m\n",
       "\u001b[0;34m        will already be in :paramref:`dst`.\u001b[0m\n",
       "\u001b[0;34m\u001b[0m\n",
       "\u001b[0;34m    Raises\u001b[0m\n",
       "\u001b[0;34m    ------\u001b[0m\n",
       "\u001b[0;34m    RuntimeError\u001b[0m\n",
       "\u001b[0;34m        The compressed data is corrupted or the output buffer is not large enough.\u001b[0m\n",
       "\u001b[0;34m        Could not get a bytes object.\u001b[0m\n",
       "\u001b[0;34m    TypeError\u001b[0m\n",
       "\u001b[0;34m        If :paramref:`src` does not support Buffer Protocol.\u001b[0m\n",
       "\u001b[0;34m    ValueError\u001b[0m\n",
       "\u001b[0;34m        If the length of :paramref:`src` is smaller than the minimum.\u001b[0m\n",
       "\u001b[0;34m        If :paramref:`dst` is not None and its length is 0.\u001b[0m\n",
       "\u001b[0;34m\u001b[0m\n",
       "\u001b[0;34m    Examples\u001b[0m\n",
       "\u001b[0;34m    --------\u001b[0m\n",
       "\u001b[0;34m    >>> import array, sys\u001b[0m\n",
       "\u001b[0;34m    >>> a = array.array('i', range(1000*1000))\u001b[0m\n",
       "\u001b[0;34m    >>> a_bytesobj = a.tobytes()\u001b[0m\n",
       "\u001b[0;34m    >>> c_bytesobj = blosc2.compress(a_bytesobj, typesize=4)\u001b[0m\n",
       "\u001b[0;34m    >>> a_bytesobj2 = blosc2.decompress(c_bytesobj)\u001b[0m\n",
       "\u001b[0;34m    >>> a_bytesobj == a_bytesobj2\u001b[0m\n",
       "\u001b[0;34m    True\u001b[0m\n",
       "\u001b[0;34m    >>> b\"\" == blosc2.decompress(blosc2.compress(b\"\"))\u001b[0m\n",
       "\u001b[0;34m    True\u001b[0m\n",
       "\u001b[0;34m    >>> b\"1\"*7 == blosc2.decompress(blosc2.compress(b\"1\"*7))\u001b[0m\n",
       "\u001b[0;34m    True\u001b[0m\n",
       "\u001b[0;34m    >>> type(blosc2.decompress(blosc2.compress(b\"1\"*7),\u001b[0m\n",
       "\u001b[0;34m    ...                        as_bytearray=True)) is bytearray\u001b[0m\n",
       "\u001b[0;34m    True\u001b[0m\n",
       "\u001b[0;34m    >>> import numpy as np\u001b[0m\n",
       "\u001b[0;34m    >>> arr = np.arange(10)\u001b[0m\n",
       "\u001b[0;34m    >>> comp_arr = blosc2.compress(arr)\u001b[0m\n",
       "\u001b[0;34m    >>> dest = np.empty(arr.shape, arr.dtype)\u001b[0m\n",
       "\u001b[0;34m    >>> blosc2.decompress(comp_arr, dst=dest)\u001b[0m\n",
       "\u001b[0;34m    >>> np.array_equal(arr, dest)\u001b[0m\n",
       "\u001b[0;34m    True\u001b[0m\n",
       "\u001b[0;34m    \"\"\"\u001b[0m\u001b[0;34m\u001b[0m\n",
       "\u001b[0;34m\u001b[0m    \u001b[0;32mreturn\u001b[0m \u001b[0mblosc2_ext\u001b[0m\u001b[0;34m.\u001b[0m\u001b[0mdecompress\u001b[0m\u001b[0;34m(\u001b[0m\u001b[0msrc\u001b[0m\u001b[0;34m,\u001b[0m \u001b[0mdst\u001b[0m\u001b[0;34m,\u001b[0m \u001b[0mas_bytearray\u001b[0m\u001b[0;34m)\u001b[0m\u001b[0;34m\u001b[0m\u001b[0;34m\u001b[0m\u001b[0m\n",
       "\u001b[0;31mFile:\u001b[0m      ~/miniforge3/envs/edge2/lib/python3.10/site-packages/blosc2/core.py\n",
       "\u001b[0;31mType:\u001b[0m      function"
      ]
     },
     "metadata": {},
     "output_type": "display_data"
    }
   ],
   "source": [
    "blosc2.decompress??"
   ]
  },
  {
   "cell_type": "code",
   "execution_count": 100,
   "id": "6c441e1c-3e65-4fe7-86d9-fb40772ed2eb",
   "metadata": {
    "tags": []
   },
   "outputs": [
    {
     "data": {
      "text/plain": [
       "(262144,)"
      ]
     },
     "execution_count": 100,
     "metadata": {},
     "output_type": "execute_result"
    }
   ],
   "source": [
    "d2.shape"
   ]
  },
  {
   "cell_type": "code",
   "execution_count": 83,
   "id": "3fe6559b-5509-438d-a7cc-9bd52092f9fc",
   "metadata": {
    "tags": []
   },
   "outputs": [],
   "source": [
    "dat1 = data0.tobytes()"
   ]
  },
  {
   "cell_type": "code",
   "execution_count": null,
   "id": "63d18fe7-ccf9-4316-ac38-bcca1ef05992",
   "metadata": {},
   "outputs": [],
   "source": [
    "dat2 = dat0."
   ]
  },
  {
   "cell_type": "code",
   "execution_count": 80,
   "id": "443b5fdb-8fcd-44bd-b667-4ff8b80800ba",
   "metadata": {
    "tags": []
   },
   "outputs": [],
   "source": [
    "dat2 = bytearray(data0.ravel())"
   ]
  },
  {
   "cell_type": "code",
   "execution_count": 81,
   "id": "8208ea97-d578-422b-868d-51fb6e8b7397",
   "metadata": {
    "tags": []
   },
   "outputs": [
    {
     "data": {
      "text/plain": [
       "(bytearray(b'\\x00\\x00\\x00\\x00\\x00\\x00\\x00\\x00\\x00\\x00'),\n",
       " b'\\x00\\x00\\x00\\x00\\x00\\x00\\x00\\x00\\x00\\x00')"
      ]
     },
     "execution_count": 81,
     "metadata": {},
     "output_type": "execute_result"
    }
   ],
   "source": [
    "dat2[:10], dat1[:10]"
   ]
  },
  {
   "cell_type": "code",
   "execution_count": 82,
   "id": "adefc947-1aab-4501-b674-22d63d58bc6a",
   "metadata": {
    "tags": []
   },
   "outputs": [
    {
     "ename": "UnicodeDecodeError",
     "evalue": "'utf-8' codec can't decode byte 0x80 in position 393994: invalid start byte",
     "output_type": "error",
     "traceback": [
      "\u001b[0;31m---------------------------------------------------------------------------\u001b[0m",
      "\u001b[0;31mUnicodeDecodeError\u001b[0m                        Traceback (most recent call last)",
      "Cell \u001b[0;32mIn[82], line 1\u001b[0m\n\u001b[0;32m----> 1\u001b[0m dat3 \u001b[38;5;241m=\u001b[39m \u001b[43mdat2\u001b[49m\u001b[38;5;241;43m.\u001b[39;49m\u001b[43mdecode\u001b[49m\u001b[43m(\u001b[49m\u001b[43m)\u001b[49m\n",
      "\u001b[0;31mUnicodeDecodeError\u001b[0m: 'utf-8' codec can't decode byte 0x80 in position 393994: invalid start byte"
     ]
    }
   ],
   "source": [
    "dat3 = dat2.decode()"
   ]
  },
  {
   "cell_type": "code",
   "execution_count": 78,
   "id": "4fcf8d67-a716-40bc-8408-01272ca8b90b",
   "metadata": {
    "tags": []
   },
   "outputs": [
    {
     "data": {
      "text/plain": [
       "'\\x00\\x00\\x00\\x00\\x00\\x00\\x00\\x00\\x00\\x00'"
      ]
     },
     "execution_count": 78,
     "metadata": {},
     "output_type": "execute_result"
    }
   ],
   "source": [
    "dat2[:10].decode()"
   ]
  },
  {
   "cell_type": "code",
   "execution_count": 90,
   "id": "5882bf68-29f1-4477-89d1-ecd82c3423a3",
   "metadata": {
    "tags": []
   },
   "outputs": [],
   "source": [
    "dat2 = np.frombuffer(dat1, dtype='uint8')"
   ]
  },
  {
   "cell_type": "code",
   "execution_count": 91,
   "id": "56de1181-2602-41f1-b99c-d097ac539c8f",
   "metadata": {
    "tags": []
   },
   "outputs": [],
   "source": [
    "dat3 = np.frombuffer(dat2, dtype='float32')"
   ]
  },
  {
   "cell_type": "code",
   "execution_count": 92,
   "id": "7d18e9d5-18ab-452f-afb1-079bf8c9bf7b",
   "metadata": {
    "tags": []
   },
   "outputs": [
    {
     "data": {
      "text/plain": [
       "262144"
      ]
     },
     "execution_count": 92,
     "metadata": {},
     "output_type": "execute_result"
    }
   ],
   "source": [
    "len(dat3)"
   ]
  },
  {
   "cell_type": "code",
   "execution_count": 262,
   "id": "240d0e65-99a6-41a8-bec6-512c8a8a354c",
   "metadata": {
    "tags": []
   },
   "outputs": [],
   "source": [
    "decompressed = blosc.decompress(bytearray(test_dat[1]))"
   ]
  },
  {
   "cell_type": "code",
   "execution_count": 265,
   "id": "47e7ab23-cbe8-44f8-b859-0c6038139e4f",
   "metadata": {
    "tags": []
   },
   "outputs": [],
   "source": [
    "dec = np.frombuffer(decompressed, dtype='float32').reshape(1, 512, 512)"
   ]
  },
  {
   "cell_type": "code",
   "execution_count": null,
   "id": "109c6e2a-9283-4df7-8a99-66e0eccd0729",
   "metadata": {},
   "outputs": [],
   "source": []
  },
  {
   "cell_type": "code",
   "execution_count": 53,
   "id": "2fb1aade-de2e-40ac-a701-ef552b2d9aae",
   "metadata": {
    "tags": []
   },
   "outputs": [],
   "source": [
    "f1 = h5py.File('diff_scan_810_512x512.hdf5', 'r')"
   ]
  },
  {
   "cell_type": "code",
   "execution_count": 55,
   "id": "0cc4593f-93ec-491c-8d6c-72dc3b251e4e",
   "metadata": {
    "tags": []
   },
   "outputs": [],
   "source": [
    "dataset = f1['data']"
   ]
  },
  {
   "cell_type": "code",
   "execution_count": 56,
   "id": "b42dd2e3-1535-47f1-bc6e-e34c7ac3714e",
   "metadata": {
    "tags": []
   },
   "outputs": [
    {
     "data": {
      "text/plain": [
       "{'32001': (2, 2, 4, 126976, 5, 1, 1)}"
      ]
     },
     "execution_count": 56,
     "metadata": {},
     "output_type": "execute_result"
    }
   ],
   "source": [
    "dataset._filters"
   ]
  },
  {
   "cell_type": "code",
   "execution_count": 58,
   "id": "c293d6bf-e47e-401c-ae39-98925554e20e",
   "metadata": {
    "tags": []
   },
   "outputs": [
    {
     "ename": "OSError",
     "evalue": "Can't read unprocessed chunk data (offset doesn't fall on chunks's boundary)",
     "output_type": "error",
     "traceback": [
      "\u001b[0;31m---------------------------------------------------------------------------\u001b[0m",
      "\u001b[0;31mOSError\u001b[0m                                   Traceback (most recent call last)",
      "Cell \u001b[0;32mIn[58], line 1\u001b[0m\n\u001b[0;32m----> 1\u001b[0m \u001b[43mdataset\u001b[49m\u001b[38;5;241;43m.\u001b[39;49m\u001b[43mid\u001b[49m\u001b[38;5;241;43m.\u001b[39;49m\u001b[43mread_direct_chunk\u001b[49m\u001b[43m(\u001b[49m\u001b[43m(\u001b[49m\u001b[38;5;241;43m1\u001b[39;49m\u001b[43m,\u001b[49m\u001b[38;5;241;43m0\u001b[39;49m\u001b[43m,\u001b[49m\u001b[38;5;241;43m0\u001b[39;49m\u001b[43m)\u001b[49m\u001b[43m)\u001b[49m\n",
      "File \u001b[0;32mh5py/h5d.pyx:566\u001b[0m, in \u001b[0;36mh5py.h5d.DatasetID.read_direct_chunk\u001b[0;34m()\u001b[0m\n",
      "\u001b[0;31mOSError\u001b[0m: Can't read unprocessed chunk data (offset doesn't fall on chunks's boundary)"
     ]
    }
   ],
   "source": [
    "dataset.id.read_direct_chunk((1,0,0))"
   ]
  },
  {
   "cell_type": "code",
   "execution_count": 62,
   "id": "2a7a750e-417b-4330-bccb-d51f2c4571d3",
   "metadata": {
    "tags": []
   },
   "outputs": [],
   "source": [
    "f1.close()"
   ]
  },
  {
   "cell_type": "code",
   "execution_count": 23,
   "id": "71ac2556-0484-4309-9b9f-40f63eced7c2",
   "metadata": {
    "tags": []
   },
   "outputs": [
    {
     "data": {
      "text/plain": [
       "48413.125"
      ]
     },
     "execution_count": 23,
     "metadata": {},
     "output_type": "execute_result"
    }
   ],
   "source": [
    "data.max()"
   ]
  },
  {
   "cell_type": "code",
   "execution_count": 21,
   "id": "c980e7b6-8457-4dd2-a8e3-aa3ba3df424a",
   "metadata": {
    "tags": []
   },
   "outputs": [
    {
     "data": {
      "text/plain": [
       "((963, 128, 128), (963, 512, 512))"
      ]
     },
     "execution_count": 21,
     "metadata": {},
     "output_type": "execute_result"
    }
   ],
   "source": [
    "data.shape, data_padded.shape"
   ]
  }
 ],
 "metadata": {
  "kernelspec": {
   "display_name": "edge2",
   "language": "python",
   "name": "edge2"
  },
  "language_info": {
   "codemirror_mode": {
    "name": "ipython",
    "version": 3
   },
   "file_extension": ".py",
   "mimetype": "text/x-python",
   "name": "python",
   "nbconvert_exporter": "python",
   "pygments_lexer": "ipython3",
   "version": "3.10.9"
  }
 },
 "nbformat": 4,
 "nbformat_minor": 5
}
